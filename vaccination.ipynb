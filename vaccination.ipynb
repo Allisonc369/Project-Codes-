{
 "cells": [
  {
   "cell_type": "code",
   "execution_count": 2,
   "metadata": {},
   "outputs": [],
   "source": [
    "import pandas as pd\n",
    "import numpy as np\n",
    "import matplotlib as plt"
   ]
  },
  {
   "cell_type": "code",
   "execution_count": 3,
   "metadata": {},
   "outputs": [],
   "source": [
    "vacManu = pd.read_csv(\"./country_vaccinations_by_manufacturer.csv\")\n",
    "vac = pd.read_csv(\"./country_vaccinations.csv\")"
   ]
  },
  {
   "cell_type": "code",
   "execution_count": 4,
   "metadata": {},
   "outputs": [
    {
     "name": "stdout",
     "output_type": "stream",
     "text": [
      "<class 'pandas.core.frame.DataFrame'>\n",
      "RangeIndex: 28833 entries, 0 to 28832\n",
      "Data columns (total 4 columns):\n",
      " #   Column              Non-Null Count  Dtype \n",
      "---  ------              --------------  ----- \n",
      " 0   location            28833 non-null  object\n",
      " 1   date                28833 non-null  object\n",
      " 2   vaccine             28833 non-null  object\n",
      " 3   total_vaccinations  28833 non-null  int64 \n",
      "dtypes: int64(1), object(3)\n",
      "memory usage: 901.2+ KB\n"
     ]
    }
   ],
   "source": [
    "vacManu.info()"
   ]
  },
  {
   "cell_type": "code",
   "execution_count": 5,
   "metadata": {},
   "outputs": [
    {
     "data": {
      "text/plain": [
       "437"
      ]
     },
     "execution_count": 5,
     "metadata": {},
     "output_type": "execute_result"
    }
   ],
   "source": [
    "sum(vacManu['location'] == 'China')\n",
    "#the first dataset does not contain Chinese vaccination information.\n",
    "sum(vac['country'] == 'China')"
   ]
  },
  {
   "cell_type": "code",
   "execution_count": 6,
   "metadata": {},
   "outputs": [
    {
     "data": {
      "text/html": [
       "<div>\n",
       "<style scoped>\n",
       "    .dataframe tbody tr th:only-of-type {\n",
       "        vertical-align: middle;\n",
       "    }\n",
       "\n",
       "    .dataframe tbody tr th {\n",
       "        vertical-align: top;\n",
       "    }\n",
       "\n",
       "    .dataframe thead th {\n",
       "        text-align: right;\n",
       "    }\n",
       "</style>\n",
       "<table border=\"1\" class=\"dataframe\">\n",
       "  <thead>\n",
       "    <tr style=\"text-align: right;\">\n",
       "      <th></th>\n",
       "      <th>location</th>\n",
       "      <th>date</th>\n",
       "      <th>total_vaccinations</th>\n",
       "    </tr>\n",
       "  </thead>\n",
       "  <tbody>\n",
       "    <tr>\n",
       "      <th>0</th>\n",
       "      <td>Austria</td>\n",
       "      <td>2021-01-08</td>\n",
       "      <td>31632</td>\n",
       "    </tr>\n",
       "    <tr>\n",
       "      <th>1</th>\n",
       "      <td>Austria</td>\n",
       "      <td>2021-01-15</td>\n",
       "      <td>117216</td>\n",
       "    </tr>\n",
       "    <tr>\n",
       "      <th>2</th>\n",
       "      <td>Austria</td>\n",
       "      <td>2021-01-22</td>\n",
       "      <td>215280</td>\n",
       "    </tr>\n",
       "    <tr>\n",
       "      <th>3</th>\n",
       "      <td>Austria</td>\n",
       "      <td>2021-01-29</td>\n",
       "      <td>264493</td>\n",
       "    </tr>\n",
       "    <tr>\n",
       "      <th>4</th>\n",
       "      <td>Austria</td>\n",
       "      <td>2021-02-05</td>\n",
       "      <td>362752</td>\n",
       "    </tr>\n",
       "    <tr>\n",
       "      <th>...</th>\n",
       "      <td>...</td>\n",
       "      <td>...</td>\n",
       "      <td>...</td>\n",
       "    </tr>\n",
       "    <tr>\n",
       "      <th>7950</th>\n",
       "      <td>Uruguay</td>\n",
       "      <td>2022-02-20</td>\n",
       "      <td>5662987</td>\n",
       "    </tr>\n",
       "    <tr>\n",
       "      <th>7951</th>\n",
       "      <td>Uruguay</td>\n",
       "      <td>2022-02-21</td>\n",
       "      <td>5668382</td>\n",
       "    </tr>\n",
       "    <tr>\n",
       "      <th>7952</th>\n",
       "      <td>Uruguay</td>\n",
       "      <td>2022-02-22</td>\n",
       "      <td>5671572</td>\n",
       "    </tr>\n",
       "    <tr>\n",
       "      <th>7953</th>\n",
       "      <td>Uruguay</td>\n",
       "      <td>2022-02-23</td>\n",
       "      <td>5681313</td>\n",
       "    </tr>\n",
       "    <tr>\n",
       "      <th>7954</th>\n",
       "      <td>Uruguay</td>\n",
       "      <td>2022-02-24</td>\n",
       "      <td>5691596</td>\n",
       "    </tr>\n",
       "  </tbody>\n",
       "</table>\n",
       "<p>7955 rows × 3 columns</p>\n",
       "</div>"
      ],
      "text/plain": [
       "     location        date  total_vaccinations\n",
       "0     Austria  2021-01-08               31632\n",
       "1     Austria  2021-01-15              117216\n",
       "2     Austria  2021-01-22              215280\n",
       "3     Austria  2021-01-29              264493\n",
       "4     Austria  2021-02-05              362752\n",
       "...       ...         ...                 ...\n",
       "7950  Uruguay  2022-02-20             5662987\n",
       "7951  Uruguay  2022-02-21             5668382\n",
       "7952  Uruguay  2022-02-22             5671572\n",
       "7953  Uruguay  2022-02-23             5681313\n",
       "7954  Uruguay  2022-02-24             5691596\n",
       "\n",
       "[7955 rows x 3 columns]"
      ]
     },
     "execution_count": 6,
     "metadata": {},
     "output_type": "execute_result"
    }
   ],
   "source": [
    "totalVac = vacManu.groupby(['location', 'date']).agg({'total_vaccinations':'sum'}).reset_index()\n",
    "totalVac"
   ]
  },
  {
   "cell_type": "code",
   "execution_count": 7,
   "metadata": {},
   "outputs": [
    {
     "data": {
      "text/html": [
       "<div>\n",
       "<style scoped>\n",
       "    .dataframe tbody tr th:only-of-type {\n",
       "        vertical-align: middle;\n",
       "    }\n",
       "\n",
       "    .dataframe tbody tr th {\n",
       "        vertical-align: top;\n",
       "    }\n",
       "\n",
       "    .dataframe thead th {\n",
       "        text-align: right;\n",
       "    }\n",
       "</style>\n",
       "<table border=\"1\" class=\"dataframe\">\n",
       "  <thead>\n",
       "    <tr style=\"text-align: right;\">\n",
       "      <th></th>\n",
       "      <th>date</th>\n",
       "      <th>total_vaccinations</th>\n",
       "    </tr>\n",
       "  </thead>\n",
       "  <tbody>\n",
       "    <tr>\n",
       "      <th>0</th>\n",
       "      <td>2020-12-04</td>\n",
       "      <td>1.000000e+00</td>\n",
       "    </tr>\n",
       "    <tr>\n",
       "      <th>1</th>\n",
       "      <td>2020-12-07</td>\n",
       "      <td>1.000000e+00</td>\n",
       "    </tr>\n",
       "    <tr>\n",
       "      <th>2</th>\n",
       "      <td>2020-12-09</td>\n",
       "      <td>2.000000e+00</td>\n",
       "    </tr>\n",
       "    <tr>\n",
       "      <th>3</th>\n",
       "      <td>2020-12-15</td>\n",
       "      <td>3.000000e+00</td>\n",
       "    </tr>\n",
       "    <tr>\n",
       "      <th>4</th>\n",
       "      <td>2020-12-16</td>\n",
       "      <td>4.000000e+00</td>\n",
       "    </tr>\n",
       "    <tr>\n",
       "      <th>...</th>\n",
       "      <td>...</td>\n",
       "      <td>...</td>\n",
       "    </tr>\n",
       "    <tr>\n",
       "      <th>434</th>\n",
       "      <td>2022-02-20</td>\n",
       "      <td>1.068526e+08</td>\n",
       "    </tr>\n",
       "    <tr>\n",
       "      <th>435</th>\n",
       "      <td>2022-02-21</td>\n",
       "      <td>1.060974e+08</td>\n",
       "    </tr>\n",
       "    <tr>\n",
       "      <th>436</th>\n",
       "      <td>2022-02-22</td>\n",
       "      <td>9.463981e+07</td>\n",
       "    </tr>\n",
       "    <tr>\n",
       "      <th>437</th>\n",
       "      <td>2022-02-23</td>\n",
       "      <td>1.506332e+08</td>\n",
       "    </tr>\n",
       "    <tr>\n",
       "      <th>438</th>\n",
       "      <td>2022-02-24</td>\n",
       "      <td>2.098442e+08</td>\n",
       "    </tr>\n",
       "  </tbody>\n",
       "</table>\n",
       "<p>439 rows × 2 columns</p>\n",
       "</div>"
      ],
      "text/plain": [
       "           date  total_vaccinations\n",
       "0    2020-12-04        1.000000e+00\n",
       "1    2020-12-07        1.000000e+00\n",
       "2    2020-12-09        2.000000e+00\n",
       "3    2020-12-15        3.000000e+00\n",
       "4    2020-12-16        4.000000e+00\n",
       "..          ...                 ...\n",
       "434  2022-02-20        1.068526e+08\n",
       "435  2022-02-21        1.060974e+08\n",
       "436  2022-02-22        9.463981e+07\n",
       "437  2022-02-23        1.506332e+08\n",
       "438  2022-02-24        2.098442e+08\n",
       "\n",
       "[439 rows x 2 columns]"
      ]
     },
     "execution_count": 7,
     "metadata": {},
     "output_type": "execute_result"
    }
   ],
   "source": [
    "meanVac = totalVac.groupby('date').agg({'total_vaccinations':'mean'}).reset_index()\n",
    "meanVac"
   ]
  },
  {
   "cell_type": "code",
   "execution_count": 8,
   "metadata": {},
   "outputs": [
    {
     "data": {
      "text/plain": [
       "<Axes: title={'center': 'Global Average Daily Vaccinations'}, xlabel='Day since 12/04/20'>"
      ]
     },
     "execution_count": 8,
     "metadata": {},
     "output_type": "execute_result"
    },
    {
     "data": {
      "image/png": "[encoded data removed]",
      "text/plain": [
       "<Figure size 640x480 with 1 Axes>"
      ]
     },
     "metadata": {},
     "output_type": "display_data"
    }
   ],
   "source": [
    "meanVac['total_vaccinations'].plot(title='Global Average Daily Vaccinations', xlabel = 'Day since 12/04/20')"
   ]
  },
  {
   "cell_type": "code",
   "execution_count": 9,
   "metadata": {},
   "outputs": [
    {
     "data": {
      "text/html": [
       "<div>\n",
       "<style scoped>\n",
       "    .dataframe tbody tr th:only-of-type {\n",
       "        vertical-align: middle;\n",
       "    }\n",
       "\n",
       "    .dataframe tbody tr th {\n",
       "        vertical-align: top;\n",
       "    }\n",
       "\n",
       "    .dataframe thead th {\n",
       "        text-align: right;\n",
       "    }\n",
       "</style>\n",
       "<table border=\"1\" class=\"dataframe\">\n",
       "  <thead>\n",
       "    <tr style=\"text-align: right;\">\n",
       "      <th></th>\n",
       "      <th>location</th>\n",
       "      <th>vaccine</th>\n",
       "      <th>total_vaccinations</th>\n",
       "    </tr>\n",
       "  </thead>\n",
       "  <tbody>\n",
       "    <tr>\n",
       "      <th>0</th>\n",
       "      <td>Austria</td>\n",
       "      <td>Johnson&amp;Johnson</td>\n",
       "      <td>362353</td>\n",
       "    </tr>\n",
       "    <tr>\n",
       "      <th>1</th>\n",
       "      <td>Austria</td>\n",
       "      <td>Moderna</td>\n",
       "      <td>1578771</td>\n",
       "    </tr>\n",
       "    <tr>\n",
       "      <th>2</th>\n",
       "      <td>Austria</td>\n",
       "      <td>Oxford/AstraZeneca</td>\n",
       "      <td>1587250</td>\n",
       "    </tr>\n",
       "    <tr>\n",
       "      <th>3</th>\n",
       "      <td>Austria</td>\n",
       "      <td>Pfizer/BioNTech</td>\n",
       "      <td>14460894</td>\n",
       "    </tr>\n",
       "    <tr>\n",
       "      <th>4</th>\n",
       "      <td>Belgium</td>\n",
       "      <td>Johnson&amp;Johnson</td>\n",
       "      <td>424680</td>\n",
       "    </tr>\n",
       "    <tr>\n",
       "      <th>...</th>\n",
       "      <td>...</td>\n",
       "      <td>...</td>\n",
       "      <td>...</td>\n",
       "    </tr>\n",
       "    <tr>\n",
       "      <th>160</th>\n",
       "      <td>United States</td>\n",
       "      <td>Moderna</td>\n",
       "      <td>207943834</td>\n",
       "    </tr>\n",
       "    <tr>\n",
       "      <th>161</th>\n",
       "      <td>United States</td>\n",
       "      <td>Pfizer/BioNTech</td>\n",
       "      <td>325012738</td>\n",
       "    </tr>\n",
       "    <tr>\n",
       "      <th>162</th>\n",
       "      <td>Uruguay</td>\n",
       "      <td>Oxford/AstraZeneca</td>\n",
       "      <td>89635</td>\n",
       "    </tr>\n",
       "    <tr>\n",
       "      <th>163</th>\n",
       "      <td>Uruguay</td>\n",
       "      <td>Pfizer/BioNTech</td>\n",
       "      <td>2354325</td>\n",
       "    </tr>\n",
       "    <tr>\n",
       "      <th>164</th>\n",
       "      <td>Uruguay</td>\n",
       "      <td>Sinovac</td>\n",
       "      <td>3247636</td>\n",
       "    </tr>\n",
       "  </tbody>\n",
       "</table>\n",
       "<p>165 rows × 3 columns</p>\n",
       "</div>"
      ],
      "text/plain": [
       "          location             vaccine  total_vaccinations\n",
       "0          Austria     Johnson&Johnson              362353\n",
       "1          Austria             Moderna             1578771\n",
       "2          Austria  Oxford/AstraZeneca             1587250\n",
       "3          Austria     Pfizer/BioNTech            14460894\n",
       "4          Belgium     Johnson&Johnson              424680\n",
       "..             ...                 ...                 ...\n",
       "160  United States             Moderna           207943834\n",
       "161  United States     Pfizer/BioNTech           325012738\n",
       "162        Uruguay  Oxford/AstraZeneca               89635\n",
       "163        Uruguay     Pfizer/BioNTech             2354325\n",
       "164        Uruguay             Sinovac             3247636\n",
       "\n",
       "[165 rows x 3 columns]"
      ]
     },
     "execution_count": 9,
     "metadata": {},
     "output_type": "execute_result"
    }
   ],
   "source": [
    "manufacturers = vacManu.groupby(['location', 'vaccine']).agg({'total_vaccinations':'max'}).reset_index()\n",
    "manufacturers"
   ]
  },
  {
   "cell_type": "code",
   "execution_count": 11,
   "metadata": {},
   "outputs": [
    {
     "data": {
      "text/html": [
       "<div>\n",
       "<style scoped>\n",
       "    .dataframe tbody tr th:only-of-type {\n",
       "        vertical-align: middle;\n",
       "    }\n",
       "\n",
       "    .dataframe tbody tr th {\n",
       "        vertical-align: top;\n",
       "    }\n",
       "\n",
       "    .dataframe thead th {\n",
       "        text-align: right;\n",
       "    }\n",
       "</style>\n",
       "<table border=\"1\" class=\"dataframe\">\n",
       "  <thead>\n",
       "    <tr style=\"text-align: right;\">\n",
       "      <th></th>\n",
       "      <th>vaccine</th>\n",
       "      <th>total_vaccinations</th>\n",
       "    </tr>\n",
       "  </thead>\n",
       "  <tbody>\n",
       "    <tr>\n",
       "      <th>0</th>\n",
       "      <td>CanSino</td>\n",
       "      <td>574208</td>\n",
       "    </tr>\n",
       "    <tr>\n",
       "      <th>1</th>\n",
       "      <td>Johnson&amp;Johnson</td>\n",
       "      <td>18502638</td>\n",
       "    </tr>\n",
       "    <tr>\n",
       "      <th>2</th>\n",
       "      <td>Moderna</td>\n",
       "      <td>207943834</td>\n",
       "    </tr>\n",
       "    <tr>\n",
       "      <th>3</th>\n",
       "      <td>Novavax</td>\n",
       "      <td>52306</td>\n",
       "    </tr>\n",
       "    <tr>\n",
       "      <th>4</th>\n",
       "      <td>Oxford/AstraZeneca</td>\n",
       "      <td>67392849</td>\n",
       "    </tr>\n",
       "    <tr>\n",
       "      <th>5</th>\n",
       "      <td>Pfizer/BioNTech</td>\n",
       "      <td>592488693</td>\n",
       "    </tr>\n",
       "    <tr>\n",
       "      <th>6</th>\n",
       "      <td>Sinopharm/Beijing</td>\n",
       "      <td>19961665</td>\n",
       "    </tr>\n",
       "    <tr>\n",
       "      <th>7</th>\n",
       "      <td>Sinovac</td>\n",
       "      <td>25375908</td>\n",
       "    </tr>\n",
       "    <tr>\n",
       "      <th>8</th>\n",
       "      <td>Sputnik V</td>\n",
       "      <td>1845103</td>\n",
       "    </tr>\n",
       "  </tbody>\n",
       "</table>\n",
       "</div>"
      ],
      "text/plain": [
       "              vaccine  total_vaccinations\n",
       "0             CanSino              574208\n",
       "1     Johnson&Johnson            18502638\n",
       "2             Moderna           207943834\n",
       "3             Novavax               52306\n",
       "4  Oxford/AstraZeneca            67392849\n",
       "5     Pfizer/BioNTech           592488693\n",
       "6   Sinopharm/Beijing            19961665\n",
       "7             Sinovac            25375908\n",
       "8           Sputnik V             1845103"
      ]
     },
     "execution_count": 11,
     "metadata": {},
     "output_type": "execute_result"
    }
   ],
   "source": [
    "manu = manufacturers.groupby('vaccine').agg({'total_vaccinations':'max'}).reset_index()\n",
    "manu\n",
    "#globally, vaccines produced by Pfizer/BioNTech is the most popular one, the least with Novavax. "
   ]
  },
  {
   "cell_type": "code",
   "execution_count": 13,
   "metadata": {},
   "outputs": [
    {
     "data": {
      "text/plain": [
       "<Axes: title={'center': 'Manufacturers of Vaccines Produced'}, xlabel='vaccine'>"
      ]
     },
     "execution_count": 13,
     "metadata": {},
     "output_type": "execute_result"
    },
    {
     "data": {
      "image/png": "[encoded data removed]",
      "text/plain": [
       "<Figure size 640x480 with 1 Axes>"
      ]
     },
     "metadata": {},
     "output_type": "display_data"
    }
   ],
   "source": [
    "manu.plot(x=\"vaccine\", kind='bar', title='Manufacturers of Vaccines Produced')"
   ]
  },
  {
   "cell_type": "code",
   "execution_count": 12,
   "metadata": {},
   "outputs": [
    {
     "data": {
      "text/html": [
       "<div>\n",
       "<style scoped>\n",
       "    .dataframe tbody tr th:only-of-type {\n",
       "        vertical-align: middle;\n",
       "    }\n",
       "\n",
       "    .dataframe tbody tr th {\n",
       "        vertical-align: top;\n",
       "    }\n",
       "\n",
       "    .dataframe thead th {\n",
       "        text-align: right;\n",
       "    }\n",
       "</style>\n",
       "<table border=\"1\" class=\"dataframe\">\n",
       "  <thead>\n",
       "    <tr style=\"text-align: right;\">\n",
       "      <th></th>\n",
       "      <th>location</th>\n",
       "      <th>total_vaccinations</th>\n",
       "    </tr>\n",
       "  </thead>\n",
       "  <tbody>\n",
       "    <tr>\n",
       "      <th>0</th>\n",
       "      <td>Austria</td>\n",
       "      <td>14460894</td>\n",
       "    </tr>\n",
       "    <tr>\n",
       "      <th>1</th>\n",
       "      <td>Belgium</td>\n",
       "      <td>17233798</td>\n",
       "    </tr>\n",
       "    <tr>\n",
       "      <th>2</th>\n",
       "      <td>Bulgaria</td>\n",
       "      <td>2803039</td>\n",
       "    </tr>\n",
       "    <tr>\n",
       "      <th>3</th>\n",
       "      <td>Chile</td>\n",
       "      <td>25375908</td>\n",
       "    </tr>\n",
       "    <tr>\n",
       "      <th>4</th>\n",
       "      <td>Croatia</td>\n",
       "      <td>3892532</td>\n",
       "    </tr>\n",
       "    <tr>\n",
       "      <th>5</th>\n",
       "      <td>Cyprus</td>\n",
       "      <td>1171141</td>\n",
       "    </tr>\n",
       "    <tr>\n",
       "      <th>6</th>\n",
       "      <td>Czechia</td>\n",
       "      <td>14497139</td>\n",
       "    </tr>\n",
       "    <tr>\n",
       "      <th>7</th>\n",
       "      <td>Denmark</td>\n",
       "      <td>10235629</td>\n",
       "    </tr>\n",
       "    <tr>\n",
       "      <th>8</th>\n",
       "      <td>Ecuador</td>\n",
       "      <td>15812935</td>\n",
       "    </tr>\n",
       "    <tr>\n",
       "      <th>9</th>\n",
       "      <td>Estonia</td>\n",
       "      <td>1469209</td>\n",
       "    </tr>\n",
       "    <tr>\n",
       "      <th>10</th>\n",
       "      <td>European Union</td>\n",
       "      <td>592488693</td>\n",
       "    </tr>\n",
       "    <tr>\n",
       "      <th>11</th>\n",
       "      <td>Finland</td>\n",
       "      <td>9034184</td>\n",
       "    </tr>\n",
       "    <tr>\n",
       "      <th>12</th>\n",
       "      <td>France</td>\n",
       "      <td>108105332</td>\n",
       "    </tr>\n",
       "    <tr>\n",
       "      <th>13</th>\n",
       "      <td>Germany</td>\n",
       "      <td>124038705</td>\n",
       "    </tr>\n",
       "    <tr>\n",
       "      <th>14</th>\n",
       "      <td>Hong Kong</td>\n",
       "      <td>7513289</td>\n",
       "    </tr>\n",
       "    <tr>\n",
       "      <th>15</th>\n",
       "      <td>Hungary</td>\n",
       "      <td>9237004</td>\n",
       "    </tr>\n",
       "    <tr>\n",
       "      <th>16</th>\n",
       "      <td>Iceland</td>\n",
       "      <td>73134</td>\n",
       "    </tr>\n",
       "    <tr>\n",
       "      <th>17</th>\n",
       "      <td>Ireland</td>\n",
       "      <td>7916234</td>\n",
       "    </tr>\n",
       "    <tr>\n",
       "      <th>18</th>\n",
       "      <td>Italy</td>\n",
       "      <td>87077839</td>\n",
       "    </tr>\n",
       "    <tr>\n",
       "      <th>19</th>\n",
       "      <td>Japan</td>\n",
       "      <td>86647668</td>\n",
       "    </tr>\n",
       "    <tr>\n",
       "      <th>20</th>\n",
       "      <td>Latvia</td>\n",
       "      <td>1590033</td>\n",
       "    </tr>\n",
       "    <tr>\n",
       "      <th>21</th>\n",
       "      <td>Liechtenstein</td>\n",
       "      <td>46551</td>\n",
       "    </tr>\n",
       "    <tr>\n",
       "      <th>22</th>\n",
       "      <td>Lithuania</td>\n",
       "      <td>3274817</td>\n",
       "    </tr>\n",
       "    <tr>\n",
       "      <th>23</th>\n",
       "      <td>Luxembourg</td>\n",
       "      <td>693910</td>\n",
       "    </tr>\n",
       "    <tr>\n",
       "      <th>24</th>\n",
       "      <td>Malta</td>\n",
       "      <td>700075</td>\n",
       "    </tr>\n",
       "    <tr>\n",
       "      <th>25</th>\n",
       "      <td>Nepal</td>\n",
       "      <td>19072916</td>\n",
       "    </tr>\n",
       "    <tr>\n",
       "      <th>26</th>\n",
       "      <td>Netherlands</td>\n",
       "      <td>23820089</td>\n",
       "    </tr>\n",
       "    <tr>\n",
       "      <th>27</th>\n",
       "      <td>Norway</td>\n",
       "      <td>8797107</td>\n",
       "    </tr>\n",
       "    <tr>\n",
       "      <th>28</th>\n",
       "      <td>Peru</td>\n",
       "      <td>33696262</td>\n",
       "    </tr>\n",
       "    <tr>\n",
       "      <th>29</th>\n",
       "      <td>Poland</td>\n",
       "      <td>38063145</td>\n",
       "    </tr>\n",
       "    <tr>\n",
       "      <th>30</th>\n",
       "      <td>Portugal</td>\n",
       "      <td>14860005</td>\n",
       "    </tr>\n",
       "    <tr>\n",
       "      <th>31</th>\n",
       "      <td>Romania</td>\n",
       "      <td>12747366</td>\n",
       "    </tr>\n",
       "    <tr>\n",
       "      <th>32</th>\n",
       "      <td>Slovakia</td>\n",
       "      <td>5053019</td>\n",
       "    </tr>\n",
       "    <tr>\n",
       "      <th>33</th>\n",
       "      <td>Slovenia</td>\n",
       "      <td>2256663</td>\n",
       "    </tr>\n",
       "    <tr>\n",
       "      <th>34</th>\n",
       "      <td>South Korea</td>\n",
       "      <td>72831906</td>\n",
       "    </tr>\n",
       "    <tr>\n",
       "      <th>35</th>\n",
       "      <td>Spain</td>\n",
       "      <td>63790423</td>\n",
       "    </tr>\n",
       "    <tr>\n",
       "      <th>36</th>\n",
       "      <td>Sweden</td>\n",
       "      <td>14466469</td>\n",
       "    </tr>\n",
       "    <tr>\n",
       "      <th>37</th>\n",
       "      <td>Switzerland</td>\n",
       "      <td>9723092</td>\n",
       "    </tr>\n",
       "    <tr>\n",
       "      <th>38</th>\n",
       "      <td>Ukraine</td>\n",
       "      <td>14774013</td>\n",
       "    </tr>\n",
       "    <tr>\n",
       "      <th>39</th>\n",
       "      <td>United States</td>\n",
       "      <td>325012738</td>\n",
       "    </tr>\n",
       "    <tr>\n",
       "      <th>40</th>\n",
       "      <td>Uruguay</td>\n",
       "      <td>3247636</td>\n",
       "    </tr>\n",
       "  </tbody>\n",
       "</table>\n",
       "</div>"
      ],
      "text/plain": [
       "          location  total_vaccinations\n",
       "0          Austria            14460894\n",
       "1          Belgium            17233798\n",
       "2         Bulgaria             2803039\n",
       "3            Chile            25375908\n",
       "4          Croatia             3892532\n",
       "5           Cyprus             1171141\n",
       "6          Czechia            14497139\n",
       "7          Denmark            10235629\n",
       "8          Ecuador            15812935\n",
       "9          Estonia             1469209\n",
       "10  European Union           592488693\n",
       "11         Finland             9034184\n",
       "12          France           108105332\n",
       "13         Germany           124038705\n",
       "14       Hong Kong             7513289\n",
       "15         Hungary             9237004\n",
       "16         Iceland               73134\n",
       "17         Ireland             7916234\n",
       "18           Italy            87077839\n",
       "19           Japan            86647668\n",
       "20          Latvia             1590033\n",
       "21   Liechtenstein               46551\n",
       "22       Lithuania             3274817\n",
       "23      Luxembourg              693910\n",
       "24           Malta              700075\n",
       "25           Nepal            19072916\n",
       "26     Netherlands            23820089\n",
       "27          Norway             8797107\n",
       "28            Peru            33696262\n",
       "29          Poland            38063145\n",
       "30        Portugal            14860005\n",
       "31         Romania            12747366\n",
       "32        Slovakia             5053019\n",
       "33        Slovenia             2256663\n",
       "34     South Korea            72831906\n",
       "35           Spain            63790423\n",
       "36          Sweden            14466469\n",
       "37     Switzerland             9723092\n",
       "38         Ukraine            14774013\n",
       "39   United States           325012738\n",
       "40         Uruguay             3247636"
      ]
     },
     "execution_count": 12,
     "metadata": {},
     "output_type": "execute_result"
    }
   ],
   "source": [
    "manufacturers.groupby('location').agg({'total_vaccinations':'max'}).reset_index()\n",
    "#40 countries' total_vaccinations count"
   ]
  },
  {
   "cell_type": "code",
   "execution_count": 13,
   "metadata": {},
   "outputs": [
    {
     "name": "stdout",
     "output_type": "stream",
     "text": [
      "<class 'pandas.core.frame.DataFrame'>\n",
      "RangeIndex: 79486 entries, 0 to 79485\n",
      "Data columns (total 15 columns):\n",
      " #   Column                               Non-Null Count  Dtype  \n",
      "---  ------                               --------------  -----  \n",
      " 0   country                              79486 non-null  object \n",
      " 1   iso_code                             79486 non-null  object \n",
      " 2   date                                 79486 non-null  object \n",
      " 3   total_vaccinations                   40805 non-null  float64\n",
      " 4   people_vaccinated                    38664 non-null  float64\n",
      " 5   people_fully_vaccinated              36210 non-null  float64\n",
      " 6   daily_vaccinations_raw               33213 non-null  float64\n",
      " 7   daily_vaccinations                   79173 non-null  float64\n",
      " 8   total_vaccinations_per_hundred       40805 non-null  float64\n",
      " 9   people_vaccinated_per_hundred        38664 non-null  float64\n",
      " 10  people_fully_vaccinated_per_hundred  36210 non-null  float64\n",
      " 11  daily_vaccinations_per_million       79173 non-null  float64\n",
      " 12  vaccines                             79486 non-null  object \n",
      " 13  source_name                          79486 non-null  object \n",
      " 14  source_website                       79486 non-null  object \n",
      "dtypes: float64(9), object(6)\n",
      "memory usage: 9.1+ MB\n"
     ]
    }
   ],
   "source": [
    "vac.info()"
   ]
  },
  {
   "cell_type": "code",
   "execution_count": 14,
   "metadata": {},
   "outputs": [
    {
     "name": "stdout",
     "output_type": "stream",
     "text": [
      "<class 'pandas.core.frame.DataFrame'>\n",
      "Int64Index: 437 entries, 14450 to 14886\n",
      "Data columns (total 13 columns):\n",
      " #   Column                               Non-Null Count  Dtype  \n",
      "---  ------                               --------------  -----  \n",
      " 0   country                              437 non-null    object \n",
      " 1   iso_code                             437 non-null    object \n",
      " 2   date                                 437 non-null    object \n",
      " 3   total_vaccinations                   352 non-null    float64\n",
      " 4   people_vaccinated                    12 non-null     float64\n",
      " 5   people_fully_vaccinated              25 non-null     float64\n",
      " 6   daily_vaccinations_raw               339 non-null    float64\n",
      " 7   daily_vaccinations                   436 non-null    float64\n",
      " 8   total_vaccinations_per_hundred       352 non-null    float64\n",
      " 9   people_vaccinated_per_hundred        12 non-null     float64\n",
      " 10  people_fully_vaccinated_per_hundred  25 non-null     float64\n",
      " 11  daily_vaccinations_per_million       436 non-null    float64\n",
      " 12  vaccines                             437 non-null    object \n",
      "dtypes: float64(9), object(4)\n",
      "memory usage: 47.8+ KB\n"
     ]
    },
    {
     "name": "stderr",
     "output_type": "stream",
     "text": [
      "/var/folders/tm/dj0qxgcn4j75czpgvwyxxztc0000gn/T/ipykernel_4704/4086855785.py:2: SettingWithCopyWarning: \n",
      "A value is trying to be set on a copy of a slice from a DataFrame\n",
      "\n",
      "See the caveats in the documentation: https://pandas.pydata.org/pandas-docs/stable/user_guide/indexing.html#returning-a-view-versus-a-copy\n",
      "  china.drop(columns=['source_name', 'source_website'], inplace=True)\n"
     ]
    }
   ],
   "source": [
    "china = vac[vac['country'] == 'China']\n",
    "china.drop(columns=['source_name', 'source_website'], inplace=True)\n",
    "china.info()"
   ]
  },
  {
   "cell_type": "code",
   "execution_count": 15,
   "metadata": {},
   "outputs": [
    {
     "data": {
      "text/plain": [
       "<Axes: title={'center': 'Culmulative vaccinations in China since 12/15/2020'}>"
      ]
     },
     "execution_count": 15,
     "metadata": {},
     "output_type": "execute_result"
    },
    {
     "data": {
      "image/png": "[encoded data removed]",
      "text/plain": [
       "<Figure size 640x480 with 1 Axes>"
      ]
     },
     "metadata": {},
     "output_type": "display_data"
    }
   ],
   "source": [
    "china['total_vaccinations'].plot(title=\"Culmulative vaccinations in China since 12/15/2020\")"
   ]
  },
  {
   "cell_type": "code",
   "execution_count": 16,
   "metadata": {},
   "outputs": [
    {
     "data": {
      "text/plain": [
       "<Axes: title={'center': 'Daily vaccinations in China since 12/15/2020'}>"
      ]
     },
     "execution_count": 16,
     "metadata": {},
     "output_type": "execute_result"
    },
    {
     "data": {
      "image/png": "[encoded data removed]",
      "text/plain": [
       "<Figure size 640x480 with 1 Axes>"
      ]
     },
     "metadata": {},
     "output_type": "display_data"
    }
   ],
   "source": [
    "china['daily_vaccinations'].plot(title=\"Daily vaccinations in China since 12/15/2020\")"
   ]
  },
  {
   "cell_type": "code",
   "execution_count": 17,
   "metadata": {},
   "outputs": [
    {
     "data": {
      "text/plain": [
       "[1268180000.0, 1232543000.0]"
      ]
     },
     "execution_count": 17,
     "metadata": {},
     "output_type": "execute_result"
    }
   ],
   "source": [
    "[china['people_vaccinated'].max(), china['people_fully_vaccinated'].max()]"
   ]
  },
  {
   "cell_type": "code",
   "execution_count": 18,
   "metadata": {},
   "outputs": [
    {
     "data": {
      "text/plain": [
       "1"
      ]
     },
     "execution_count": 18,
     "metadata": {},
     "output_type": "execute_result"
    }
   ],
   "source": [
    "china['vaccines'].nunique() \n",
    "# All Chinese vaccines were produced by the five specific manufacturers. China didn't use other vaccine products. "
   ]
  },
  {
   "cell_type": "code",
   "execution_count": 19,
   "metadata": {},
   "outputs": [
    {
     "data": {
      "text/plain": [
       "CanSino, Sinopharm/Beijing, Sinopharm/Wuhan, Sinovac, ZF2001    437\n",
       "Name: vaccines, dtype: int64"
      ]
     },
     "execution_count": 19,
     "metadata": {},
     "output_type": "execute_result"
    }
   ],
   "source": [
    "china['vaccines'].value_counts()"
   ]
  },
  {
   "cell_type": "code",
   "execution_count": 19,
   "metadata": {},
   "outputs": [
    {
     "name": "stdout",
     "output_type": "stream",
     "text": [
      "<class 'pandas.core.frame.DataFrame'>\n",
      "Int64Index: 79049 entries, 0 to 79485\n",
      "Data columns (total 13 columns):\n",
      " #   Column                               Non-Null Count  Dtype  \n",
      "---  ------                               --------------  -----  \n",
      " 0   country                              79049 non-null  object \n",
      " 1   iso_code                             79049 non-null  object \n",
      " 2   date                                 79049 non-null  object \n",
      " 3   total_vaccinations                   40453 non-null  float64\n",
      " 4   people_vaccinated                    38652 non-null  float64\n",
      " 5   people_fully_vaccinated              36185 non-null  float64\n",
      " 6   daily_vaccinations_raw               32874 non-null  float64\n",
      " 7   daily_vaccinations                   78737 non-null  float64\n",
      " 8   total_vaccinations_per_hundred       40453 non-null  float64\n",
      " 9   people_vaccinated_per_hundred        38652 non-null  float64\n",
      " 10  people_fully_vaccinated_per_hundred  36185 non-null  float64\n",
      " 11  daily_vaccinations_per_million       78737 non-null  float64\n",
      " 12  vaccines                             79049 non-null  object \n",
      "dtypes: float64(9), object(4)\n",
      "memory usage: 8.4+ MB\n"
     ]
    },
    {
     "name": "stderr",
     "output_type": "stream",
     "text": [
      "/var/folders/tm/dj0qxgcn4j75czpgvwyxxztc0000gn/T/ipykernel_3743/3746118416.py:2: SettingWithCopyWarning: \n",
      "A value is trying to be set on a copy of a slice from a DataFrame\n",
      "\n",
      "See the caveats in the documentation: https://pandas.pydata.org/pandas-docs/stable/user_guide/indexing.html#returning-a-view-versus-a-copy\n",
      "  others.drop(columns=['source_name', 'source_website'], inplace=True)\n"
     ]
    }
   ],
   "source": [
    "others = vac[vac['country'] != 'China']\n",
    "others.drop(columns=['source_name', 'source_website'], inplace=True)\n",
    "others.info()"
   ]
  },
  {
   "cell_type": "code",
   "execution_count": 20,
   "metadata": {},
   "outputs": [
    {
     "data": {
      "text/html": [
       "<div>\n",
       "<style scoped>\n",
       "    .dataframe tbody tr th:only-of-type {\n",
       "        vertical-align: middle;\n",
       "    }\n",
       "\n",
       "    .dataframe tbody tr th {\n",
       "        vertical-align: top;\n",
       "    }\n",
       "\n",
       "    .dataframe thead th {\n",
       "        text-align: right;\n",
       "    }\n",
       "</style>\n",
       "<table border=\"1\" class=\"dataframe\">\n",
       "  <thead>\n",
       "    <tr style=\"text-align: right;\">\n",
       "      <th></th>\n",
       "      <th>country</th>\n",
       "      <th>total_vaccinations</th>\n",
       "    </tr>\n",
       "  </thead>\n",
       "  <tbody>\n",
       "    <tr>\n",
       "      <th>0</th>\n",
       "      <td>Afghanistan</td>\n",
       "      <td>5412309.0</td>\n",
       "    </tr>\n",
       "    <tr>\n",
       "      <th>1</th>\n",
       "      <td>Albania</td>\n",
       "      <td>2683715.0</td>\n",
       "    </tr>\n",
       "    <tr>\n",
       "      <th>2</th>\n",
       "      <td>Algeria</td>\n",
       "      <td>13461201.0</td>\n",
       "    </tr>\n",
       "    <tr>\n",
       "      <th>3</th>\n",
       "      <td>Andorra</td>\n",
       "      <td>141962.0</td>\n",
       "    </tr>\n",
       "    <tr>\n",
       "      <th>4</th>\n",
       "      <td>Angola</td>\n",
       "      <td>15902065.0</td>\n",
       "    </tr>\n",
       "    <tr>\n",
       "      <th>...</th>\n",
       "      <td>...</td>\n",
       "      <td>...</td>\n",
       "    </tr>\n",
       "    <tr>\n",
       "      <th>217</th>\n",
       "      <td>Wales</td>\n",
       "      <td>6859296.0</td>\n",
       "    </tr>\n",
       "    <tr>\n",
       "      <th>218</th>\n",
       "      <td>Wallis and Futuna</td>\n",
       "      <td>12287.0</td>\n",
       "    </tr>\n",
       "    <tr>\n",
       "      <th>219</th>\n",
       "      <td>Yemen</td>\n",
       "      <td>772574.0</td>\n",
       "    </tr>\n",
       "    <tr>\n",
       "      <th>220</th>\n",
       "      <td>Zambia</td>\n",
       "      <td>2799259.0</td>\n",
       "    </tr>\n",
       "    <tr>\n",
       "      <th>221</th>\n",
       "      <td>Zimbabwe</td>\n",
       "      <td>7858794.0</td>\n",
       "    </tr>\n",
       "  </tbody>\n",
       "</table>\n",
       "<p>222 rows × 2 columns</p>\n",
       "</div>"
      ],
      "text/plain": [
       "               country  total_vaccinations\n",
       "0          Afghanistan           5412309.0\n",
       "1              Albania           2683715.0\n",
       "2              Algeria          13461201.0\n",
       "3              Andorra            141962.0\n",
       "4               Angola          15902065.0\n",
       "..                 ...                 ...\n",
       "217              Wales           6859296.0\n",
       "218  Wallis and Futuna             12287.0\n",
       "219              Yemen            772574.0\n",
       "220             Zambia           2799259.0\n",
       "221           Zimbabwe           7858794.0\n",
       "\n",
       "[222 rows x 2 columns]"
      ]
     },
     "execution_count": 20,
     "metadata": {},
     "output_type": "execute_result"
    }
   ],
   "source": [
    "other_total_vac = others.groupby('country').agg({'total_vaccinations':'max'}).reset_index()\n",
    "other_total_vac"
   ]
  },
  {
   "cell_type": "code",
   "execution_count": 21,
   "metadata": {},
   "outputs": [
    {
     "data": {
      "text/plain": [
       "<Axes: title={'center': \"Other countries' total vaccinations\"}>"
      ]
     },
     "execution_count": 21,
     "metadata": {},
     "output_type": "execute_result"
    },
    {
     "data": {
      "image/png": "[encoded data removed]",
      "text/plain": [
       "<Figure size 640x480 with 1 Axes>"
      ]
     },
     "metadata": {},
     "output_type": "display_data"
    }
   ],
   "source": [
    "other_total_vac.plot(kind='bar', title=\"Other countries' total vaccinations\")"
   ]
  },
  {
   "cell_type": "code",
   "execution_count": 22,
   "metadata": {},
   "outputs": [
    {
     "data": {
      "text/html": [
       "<div>\n",
       "<style scoped>\n",
       "    .dataframe tbody tr th:only-of-type {\n",
       "        vertical-align: middle;\n",
       "    }\n",
       "\n",
       "    .dataframe tbody tr th {\n",
       "        vertical-align: top;\n",
       "    }\n",
       "\n",
       "    .dataframe thead th {\n",
       "        text-align: right;\n",
       "    }\n",
       "</style>\n",
       "<table border=\"1\" class=\"dataframe\">\n",
       "  <thead>\n",
       "    <tr style=\"text-align: right;\">\n",
       "      <th></th>\n",
       "      <th>country</th>\n",
       "      <th>total_vaccinations</th>\n",
       "    </tr>\n",
       "  </thead>\n",
       "  <tbody>\n",
       "    <tr>\n",
       "      <th>90</th>\n",
       "      <td>India</td>\n",
       "      <td>1.764971e+09</td>\n",
       "    </tr>\n",
       "  </tbody>\n",
       "</table>\n",
       "</div>"
      ],
      "text/plain": [
       "   country  total_vaccinations\n",
       "90   India        1.764971e+09"
      ]
     },
     "execution_count": 22,
     "metadata": {},
     "output_type": "execute_result"
    }
   ],
   "source": [
    "other_total_vac['total_vaccinations'].max()\n",
    "other_total_vac[other_total_vac['total_vaccinations'] == 1764970949.0]\n",
    "# 其他国家中接种疫苗最多的是印度， 人口总量差不多，但接种人数远不及中国"
   ]
  },
  {
   "cell_type": "code",
   "execution_count": 23,
   "metadata": {},
   "outputs": [
    {
     "data": {
      "text/html": [
       "<div>\n",
       "<style scoped>\n",
       "    .dataframe tbody tr th:only-of-type {\n",
       "        vertical-align: middle;\n",
       "    }\n",
       "\n",
       "    .dataframe tbody tr th {\n",
       "        vertical-align: top;\n",
       "    }\n",
       "\n",
       "    .dataframe thead th {\n",
       "        text-align: right;\n",
       "    }\n",
       "</style>\n",
       "<table border=\"1\" class=\"dataframe\">\n",
       "  <thead>\n",
       "    <tr style=\"text-align: right;\">\n",
       "      <th></th>\n",
       "      <th>date</th>\n",
       "      <th>daily_vaccinations</th>\n",
       "    </tr>\n",
       "  </thead>\n",
       "  <tbody>\n",
       "    <tr>\n",
       "      <th>0</th>\n",
       "      <td>2020-12-02</td>\n",
       "      <td>NaN</td>\n",
       "    </tr>\n",
       "    <tr>\n",
       "      <th>1</th>\n",
       "      <td>2020-12-03</td>\n",
       "      <td>0.000000</td>\n",
       "    </tr>\n",
       "    <tr>\n",
       "      <th>2</th>\n",
       "      <td>2020-12-04</td>\n",
       "      <td>0.000000</td>\n",
       "    </tr>\n",
       "    <tr>\n",
       "      <th>3</th>\n",
       "      <td>2020-12-05</td>\n",
       "      <td>0.000000</td>\n",
       "    </tr>\n",
       "    <tr>\n",
       "      <th>4</th>\n",
       "      <td>2020-12-06</td>\n",
       "      <td>0.000000</td>\n",
       "    </tr>\n",
       "    <tr>\n",
       "      <th>...</th>\n",
       "      <td>...</td>\n",
       "      <td>...</td>\n",
       "    </tr>\n",
       "    <tr>\n",
       "      <th>445</th>\n",
       "      <td>2022-02-20</td>\n",
       "      <td>135915.304000</td>\n",
       "    </tr>\n",
       "    <tr>\n",
       "      <th>446</th>\n",
       "      <td>2022-02-21</td>\n",
       "      <td>150505.772727</td>\n",
       "    </tr>\n",
       "    <tr>\n",
       "      <th>447</th>\n",
       "      <td>2022-02-22</td>\n",
       "      <td>164239.617978</td>\n",
       "    </tr>\n",
       "    <tr>\n",
       "      <th>448</th>\n",
       "      <td>2022-02-23</td>\n",
       "      <td>141547.012821</td>\n",
       "    </tr>\n",
       "    <tr>\n",
       "      <th>449</th>\n",
       "      <td>2022-02-24</td>\n",
       "      <td>178304.000000</td>\n",
       "    </tr>\n",
       "  </tbody>\n",
       "</table>\n",
       "<p>450 rows × 2 columns</p>\n",
       "</div>"
      ],
      "text/plain": [
       "           date  daily_vaccinations\n",
       "0    2020-12-02                 NaN\n",
       "1    2020-12-03            0.000000\n",
       "2    2020-12-04            0.000000\n",
       "3    2020-12-05            0.000000\n",
       "4    2020-12-06            0.000000\n",
       "..          ...                 ...\n",
       "445  2022-02-20       135915.304000\n",
       "446  2022-02-21       150505.772727\n",
       "447  2022-02-22       164239.617978\n",
       "448  2022-02-23       141547.012821\n",
       "449  2022-02-24       178304.000000\n",
       "\n",
       "[450 rows x 2 columns]"
      ]
     },
     "execution_count": 23,
     "metadata": {},
     "output_type": "execute_result"
    }
   ],
   "source": [
    "other_daily = others.groupby('date').agg({'daily_vaccinations':'mean'}).reset_index()\n",
    "other_daily"
   ]
  },
  {
   "cell_type": "code",
   "execution_count": 24,
   "metadata": {},
   "outputs": [
    {
     "data": {
      "text/plain": [
       "<Axes: title={'center': 'Wolrd Average Daily Vaccinations Since 12/02/2020'}>"
      ]
     },
     "execution_count": 24,
     "metadata": {},
     "output_type": "execute_result"
    },
    {
     "data": {
      "image/png": "[encoded data removed]",
      "text/plain": [
       "<Figure size 640x480 with 1 Axes>"
      ]
     },
     "metadata": {},
     "output_type": "display_data"
    }
   ],
   "source": [
    "other_daily.plot(title=\"Wolrd Average Daily Vaccinations Since 12/02/2020\")"
   ]
  },
  {
   "cell_type": "code",
   "execution_count": 25,
   "metadata": {},
   "outputs": [
    {
     "data": {
      "text/plain": [
       "[15860952.63399048, 11835456.663147714]"
      ]
     },
     "execution_count": 25,
     "metadata": {},
     "output_type": "execute_result"
    }
   ],
   "source": [
    "[others['people_vaccinated'].mean(), others['people_fully_vaccinated'].mean()]"
   ]
  },
  {
   "cell_type": "code",
   "execution_count": 27,
   "metadata": {},
   "outputs": [
    {
     "data": {
      "text/plain": [
       "['Johnson&Johnson',\n",
       " 'Oxford/AstraZeneca',\n",
       " 'Pfizer/BioNTech',\n",
       " 'Sinopharm/Beijing',\n",
       " 'Sinovac',\n",
       " 'Sputnik V',\n",
       " 'Moderna',\n",
       " 'CanSino',\n",
       " 'Covaxin',\n",
       " 'Abdala',\n",
       " 'Soberana02',\n",
       " 'Novavax',\n",
       " 'COVIran Barekat',\n",
       " 'FAKHRAVAC',\n",
       " 'Razi Cov Pars',\n",
       " 'SpikoGen',\n",
       " 'QazVac',\n",
       " 'Sputnik Light',\n",
       " 'EpiVacCorona',\n",
       " 'Medigen',\n",
       " 'Turkovac',\n",
       " 'ZF2001',\n",
       " 'Sinopharm/Wuhan']"
      ]
     },
     "execution_count": 27,
     "metadata": {},
     "output_type": "execute_result"
    }
   ],
   "source": [
    "all = []\n",
    "for item in others['vaccines']:\n",
    "    item = item.split(',')\n",
    "    for i in item:\n",
    "        i = i.strip(' ')\n",
    "        if i not in all:\n",
    "            all.append(i)\n",
    "all"
   ]
  },
  {
   "cell_type": "code",
   "execution_count": 28,
   "metadata": {},
   "outputs": [
    {
     "data": {
      "text/plain": [
       "23"
      ]
     },
     "execution_count": 28,
     "metadata": {},
     "output_type": "execute_result"
    }
   ],
   "source": [
    "len(all)\n",
    "# The world in total uses 23 types of vaccines."
   ]
  }
 ],
 "metadata": {
  "kernelspec": {
   "display_name": "base",
   "language": "python",
   "name": "python3"
  },
  "language_info": {
   "codemirror_mode": {
    "name": "ipython",
    "version": 3
   },
   "file_extension": ".py",
   "mimetype": "text/x-python",
   "name": "python",
   "nbconvert_exporter": "python",
   "pygments_lexer": "ipython3",
   "version": "3.11.3"
  },
  "orig_nbformat": 4
 },
 "nbformat": 4,
 "nbformat_minor": 2
}
